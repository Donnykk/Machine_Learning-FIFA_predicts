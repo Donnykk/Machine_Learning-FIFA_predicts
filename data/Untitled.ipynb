{
 "cells": [
  {
   "cell_type": "code",
   "execution_count": 1,
   "metadata": {
    "pycharm": {
     "name": "#%%\n"
    }
   },
   "outputs": [
    {
     "data": {
      "text/html": [
       "<div>\n",
       "<style scoped>\n",
       "    .dataframe tbody tr th:only-of-type {\n",
       "        vertical-align: middle;\n",
       "    }\n",
       "\n",
       "    .dataframe tbody tr th {\n",
       "        vertical-align: top;\n",
       "    }\n",
       "\n",
       "    .dataframe thead th {\n",
       "        text-align: right;\n",
       "    }\n",
       "</style>\n",
       "<table border=\"1\" class=\"dataframe\">\n",
       "  <thead>\n",
       "    <tr style=\"text-align: right;\">\n",
       "      <th></th>\n",
       "      <th>A</th>\n",
       "      <th>B</th>\n",
       "      <th>C</th>\n",
       "      <th>D</th>\n",
       "    </tr>\n",
       "  </thead>\n",
       "  <tbody>\n",
       "    <tr>\n",
       "      <th>0</th>\n",
       "      <td>1.565309</td>\n",
       "      <td>0.030450</td>\n",
       "      <td>1.572728</td>\n",
       "      <td>-0.444892</td>\n",
       "    </tr>\n",
       "    <tr>\n",
       "      <th>1</th>\n",
       "      <td>-0.245251</td>\n",
       "      <td>-1.416276</td>\n",
       "      <td>-1.263435</td>\n",
       "      <td>0.549417</td>\n",
       "    </tr>\n",
       "    <tr>\n",
       "      <th>2</th>\n",
       "      <td>0.699479</td>\n",
       "      <td>-0.359133</td>\n",
       "      <td>-0.830182</td>\n",
       "      <td>-0.186240</td>\n",
       "    </tr>\n",
       "    <tr>\n",
       "      <th>3</th>\n",
       "      <td>-0.141738</td>\n",
       "      <td>-0.642812</td>\n",
       "      <td>-0.837822</td>\n",
       "      <td>0.456851</td>\n",
       "    </tr>\n",
       "    <tr>\n",
       "      <th>4</th>\n",
       "      <td>-0.437280</td>\n",
       "      <td>0.994156</td>\n",
       "      <td>-1.407570</td>\n",
       "      <td>0.890365</td>\n",
       "    </tr>\n",
       "    <tr>\n",
       "      <th>5</th>\n",
       "      <td>0.448978</td>\n",
       "      <td>0.573724</td>\n",
       "      <td>-0.623153</td>\n",
       "      <td>1.017625</td>\n",
       "    </tr>\n",
       "    <tr>\n",
       "      <th>6</th>\n",
       "      <td>0.310569</td>\n",
       "      <td>1.299818</td>\n",
       "      <td>-2.453053</td>\n",
       "      <td>-0.461170</td>\n",
       "    </tr>\n",
       "    <tr>\n",
       "      <th>7</th>\n",
       "      <td>0.898193</td>\n",
       "      <td>0.445751</td>\n",
       "      <td>1.873654</td>\n",
       "      <td>1.983595</td>\n",
       "    </tr>\n",
       "    <tr>\n",
       "      <th>8</th>\n",
       "      <td>0.915924</td>\n",
       "      <td>-0.880531</td>\n",
       "      <td>-1.106806</td>\n",
       "      <td>-1.413976</td>\n",
       "    </tr>\n",
       "    <tr>\n",
       "      <th>9</th>\n",
       "      <td>-0.917121</td>\n",
       "      <td>0.255857</td>\n",
       "      <td>0.562916</td>\n",
       "      <td>-0.890200</td>\n",
       "    </tr>\n",
       "  </tbody>\n",
       "</table>\n",
       "</div>"
      ],
      "text/plain": [
       "          A         B         C         D\n",
       "0  1.565309  0.030450  1.572728 -0.444892\n",
       "1 -0.245251 -1.416276 -1.263435  0.549417\n",
       "2  0.699479 -0.359133 -0.830182 -0.186240\n",
       "3 -0.141738 -0.642812 -0.837822  0.456851\n",
       "4 -0.437280  0.994156 -1.407570  0.890365\n",
       "5  0.448978  0.573724 -0.623153  1.017625\n",
       "6  0.310569  1.299818 -2.453053 -0.461170\n",
       "7  0.898193  0.445751  1.873654  1.983595\n",
       "8  0.915924 -0.880531 -1.106806 -1.413976\n",
       "9 -0.917121  0.255857  0.562916 -0.890200"
      ]
     },
     "execution_count": 1,
     "metadata": {},
     "output_type": "execute_result"
    }
   ],
   "source": [
    "import pandas as pd\n",
    "import numpy as np\n",
    "df = pd.DataFrame(np.random.randn(10, 4), columns=list('ABCD'))\n",
    "df"
   ]
  },
  {
   "cell_type": "code",
   "execution_count": 2,
   "metadata": {
    "pycharm": {
     "name": "#%%\n"
    }
   },
   "outputs": [
    {
     "name": "stdout",
     "output_type": "stream",
     "text": [
      "0\n",
      "A    1.565309\n",
      "B    0.030450\n",
      "C    1.572728\n",
      "D   -0.444892\n",
      "Name: 0, dtype: float64\n",
      "1\n",
      "A   -0.245251\n",
      "B   -1.416276\n",
      "C   -1.263435\n",
      "D    0.549417\n",
      "Name: 1, dtype: float64\n",
      "2\n",
      "A    0.699479\n",
      "B   -0.359133\n",
      "C   -0.830182\n",
      "D   -0.186240\n",
      "Name: 2, dtype: float64\n",
      "3\n",
      "A   -0.141738\n",
      "B   -0.642812\n",
      "C   -0.837822\n",
      "D    0.456851\n",
      "Name: 3, dtype: float64\n",
      "4\n",
      "A   -0.437280\n",
      "B    0.994156\n",
      "C   -1.407570\n",
      "D    0.890365\n",
      "Name: 4, dtype: float64\n",
      "5\n",
      "A    0.448978\n",
      "B    0.573724\n",
      "C   -0.623153\n",
      "D    1.017625\n",
      "Name: 5, dtype: float64\n",
      "6\n",
      "A    0.310569\n",
      "B    1.299818\n",
      "C   -2.453053\n",
      "D   -0.461170\n",
      "Name: 6, dtype: float64\n",
      "7\n",
      "A    0.898193\n",
      "B    0.445751\n",
      "C    1.873654\n",
      "D    1.983595\n",
      "Name: 7, dtype: float64\n",
      "8\n",
      "A    0.915924\n",
      "B   -0.880531\n",
      "C   -1.106806\n",
      "D   -1.413976\n",
      "Name: 8, dtype: float64\n",
      "9\n",
      "A   -0.917121\n",
      "B    0.255857\n",
      "C    0.562916\n",
      "D   -0.890200\n",
      "Name: 9, dtype: float64\n"
     ]
    }
   ],
   "source": [
    "for ws, row in df.iterrows():\n",
    "    print(ws)\n",
    "    print (row)"
   ]
  },
  {
   "cell_type": "code",
   "execution_count": null,
   "metadata": {
    "pycharm": {
     "name": "#%%\n"
    }
   },
   "outputs": [],
   "source": []
  }
 ],
 "metadata": {
  "kernelspec": {
   "display_name": "Python 3",
   "language": "python",
   "name": "python3"
  },
  "language_info": {
   "codemirror_mode": {
    "name": "ipython",
    "version": 3
   },
   "file_extension": ".py",
   "mimetype": "text/x-python",
   "name": "python",
   "nbconvert_exporter": "python",
   "pygments_lexer": "ipython3",
   "version": "3.5.2"
  }
 },
 "nbformat": 4,
 "nbformat_minor": 2
}